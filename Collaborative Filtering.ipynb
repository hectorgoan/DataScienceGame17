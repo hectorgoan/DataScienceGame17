{
 "cells": [
  {
   "cell_type": "code",
   "execution_count": 99,
   "metadata": {
    "ExecuteTime": {
     "end_time": "2017-04-18T19:47:07.771000",
     "start_time": "2017-04-18T19:47:07.769000"
    },
    "collapsed": false
   },
   "outputs": [],
   "source": [
    "import numpy as np\n",
    "import matplotlib.pyplot as plt\n",
    "from scipy.sparse import bsr_matrix, csr_matrix, csc_matrix\n",
    "\n",
    "def save_sparse_csr(filename,array):\n",
    "    np.savez(filename,data = array.data ,indices=array.indices,\n",
    "             indptr =array.indptr, shape=array.shape )\n",
    "\n",
    "def load_sparse_csr(filename):\n",
    "    loader = np.load(filename)\n",
    "    return csr_matrix((  loader['data'], loader['indices'], loader['indptr']),\n",
    "                         shape = loader['shape'])"
   ]
  },
  {
   "cell_type": "code",
   "execution_count": 101,
   "metadata": {
    "ExecuteTime": {
     "end_time": "2017-04-18T19:48:40.986000",
     "start_time": "2017-04-18T19:47:08.650000"
    },
    "collapsed": false
   },
   "outputs": [
    {
     "name": "stdout",
     "output_type": "stream",
     "text": [
      "['genre_id' 'ts_listen' 'media_id' 'album_id' 'context_type' 'release_date'\n",
      " 'platform_name' 'platform_family' 'media_duration' 'listen_type'\n",
      " 'user_gender' 'user_id' 'artist_id' 'user_age' 'is_listened']\n",
      "(7558834L, 15L)\n"
     ]
    }
   ],
   "source": [
    "# Load train data and print the header\n",
    "\n",
    "trainData = np.loadtxt(\"train.csv\", delimiter=\",\", dtype=np.str)\n",
    "\n",
    "print trainData[0]\n",
    "\n",
    "trainData = trainData[1:].astype(np.int)\n",
    "\n",
    "print trainData.shape"
   ]
  },
  {
   "cell_type": "code",
   "execution_count": 100,
   "metadata": {
    "ExecuteTime": {
     "end_time": "2017-04-18T19:47:08.464000",
     "start_time": "2017-04-18T19:47:08.225000"
    },
    "collapsed": false
   },
   "outputs": [
    {
     "name": "stdout",
     "output_type": "stream",
     "text": [
      "['sample_id' 'genre_id' 'ts_listen' 'media_id' 'album_id' 'context_type'\n",
      " 'release_date' 'platform_name' 'platform_family' 'media_duration'\n",
      " 'listen_type' 'user_gender' 'user_id' 'artist_id' 'user_age']\n",
      "(19918L, 15L)\n"
     ]
    }
   ],
   "source": [
    "#Load test data and print the header\n",
    "\n",
    "testData = np.loadtxt(\"test.csv\", delimiter=\",\", dtype=np.str)\n",
    "\n",
    "print testData[0]\n",
    "\n",
    "testData = testData[1:].astype(np.int)\n",
    "\n",
    "print testData.shape"
   ]
  },
  {
   "cell_type": "code",
   "execution_count": 102,
   "metadata": {
    "ExecuteTime": {
     "end_time": "2017-04-18T19:48:42.051000",
     "start_time": "2017-04-18T19:48:40.987000"
    },
    "collapsed": false
   },
   "outputs": [
    {
     "name": "stdout",
     "output_type": "stream",
     "text": [
      "There are a total of  453310  distinct songs\n",
      "... and a total of  19918  distinct users\n",
      "\n",
      "Train:\n",
      "-------\n",
      "7558834 train data samples\n",
      "452975 Distinct songs in train set\n",
      "19918 Distinct users in train set\n",
      "\n",
      "Test:\n",
      "-------\n",
      "19918 test data samples\n",
      "9732 Distinct songs in test set\n",
      "19918 Distinct users in test set\n"
     ]
    }
   ],
   "source": [
    "# Print some basic characteristics of the datasets, using python set operations\n",
    "\n",
    "trainSongSet = set(trainData[:,2])\n",
    "trainUserSet = set(trainData[:,11])\n",
    "\n",
    "testSongSet = set(testData[:,3])\n",
    "testUserSet = set(testData[:,12])\n",
    "\n",
    "allSongsSet = trainSongSet | testSongSet\n",
    "sortedSongsIDs = np.asarray(sorted(allSongsSet))\n",
    "\n",
    "print \"There are a total of \", len(allSongsSet),\" distinct songs\"\n",
    "print \"... and a total of \", len(trainUserSet),\" distinct users\\n\"\n",
    "\n",
    "print \"Train:\\n-------\"\n",
    "print trainData.shape[0], \"train data samples\"\n",
    "print len(trainSongSet), \"Distinct songs in train set\"\n",
    "print len(trainUserSet), \"Distinct users in train set\"\n",
    "\n",
    "print \"\\nTest:\\n-------\"\n",
    "print testData.shape[0], \"test data samples\"\n",
    "print len(testSongSet), \"Distinct songs in test set\"\n",
    "print len(testData), \"Distinct users in test set\""
   ]
  },
  {
   "cell_type": "code",
   "execution_count": 103,
   "metadata": {
    "ExecuteTime": {
     "end_time": "2017-04-18T19:50:47.898000",
     "start_time": "2017-04-18T19:48:42.052000"
    },
    "collapsed": false
   },
   "outputs": [],
   "source": [
    "# While UserIDs range from 0 to 19918, mediaIDs seem to be random. We sort them and asign then \n",
    "# and identifier in the range 0-453310. By doing so we can latter use this ID to index a matrix \n",
    "\n",
    "IDtoIndex = {}\n",
    "\n",
    "for song in allSongsSet:\n",
    "    IDtoIndex[song] = np.where(sortedSongsIDs == song)[0][0] "
   ]
  },
  {
   "cell_type": "code",
   "execution_count": 104,
   "metadata": {
    "ExecuteTime": {
     "end_time": "2017-04-18T19:50:50.186000",
     "start_time": "2017-04-18T19:50:47.899000"
    },
    "collapsed": false
   },
   "outputs": [],
   "source": [
    "# Replace MediaIDs with our computed identifiers\n",
    "\n",
    "for i in range(trainData.shape[0]):\n",
    "    trainData[i,2] = IDtoIndex[trainData[i,2]]\n",
    "    \n",
    "for i in range(testData.shape[0]):\n",
    "    testData[i,3] = IDtoIndex[testData[i,3]]"
   ]
  },
  {
   "cell_type": "code",
   "execution_count": 108,
   "metadata": {
    "ExecuteTime": {
     "end_time": "2017-04-18T22:00:59.392000",
     "start_time": "2017-04-18T22:00:59.390000"
    },
    "collapsed": false,
    "scrolled": true
   },
   "outputs": [],
   "source": [
    "# We store the user-item matrix as a CSR sparse matrix, so we dont have to store the zeros\n",
    "# 1s represent the user listened more than 30s of song\n",
    "# -1s indicate the user did not listen at least 30s of the song\n",
    "# 0s indicate the user never heard the song at all (or no info is available)\n",
    "\n",
    "user_song = csr_matrix((len(trainUserSet), len(allSongsSet)))\n",
    "\n",
    "print user_song.shape"
   ]
  },
  {
   "cell_type": "code",
   "execution_count": null,
   "metadata": {
    "ExecuteTime": {
     "end_time": "2017-04-20T11:24:41.409000",
     "start_time": "2017-04-20T10:38:43.102000"
    },
    "collapsed": true
   },
   "outputs": [],
   "source": [
    "# Populate the user-item matrix with the data from the training set (this takes up to 2 days on my i7 processor)\n",
    "\n",
    "for i in range(7228095, trainData.shape[0]):\n",
    "    if trainData[i,14] == 1:\n",
    "        user_song[trainData[i,11], trainData[i,2]] = 1\n",
    "    else: \n",
    "        user_song[trainData[i,11], trainData[i,2]] = -1"
   ]
  },
  {
   "cell_type": "code",
   "execution_count": 137,
   "metadata": {
    "ExecuteTime": {
     "end_time": "2017-04-20T11:47:02.949000",
     "start_time": "2017-04-20T11:47:02.663000"
    },
    "collapsed": true
   },
   "outputs": [],
   "source": [
    "#Since it took us ages to compute the matrix, we should better save it to disk\n",
    "\n",
    "save_sparse_csr(\"user_song2\", user_song)"
   ]
  },
  {
   "cell_type": "code",
   "execution_count": null,
   "metadata": {
    "ExecuteTime": {
     "start_time": "2017-04-20T11:26:05.184Z"
    },
    "collapsed": false,
    "scrolled": true
   },
   "outputs": [],
   "source": [
    "\"\"\" Perform Collaborative Filtering\n",
    "\n",
    "    for each test sample:\n",
    "        1. retrieve the users who listened or disliked the song recommended to the test user (i.e., 1 or -1)\n",
    "        2. train and use a kNN classifier to determine the probability that the test user listens to the recommended song\n",
    "\"\"\"\n",
    "\n",
    "from sklearn.neighbors import KNeighborsClassifier\n",
    "\n",
    "predictions = {}\n",
    "\n",
    "for i in range(19918):\n",
    "    \n",
    "    recommended = testData[i, 3]\n",
    "    user = testData[i, 12]\n",
    "    \n",
    "    idx = (user_song[:, recommended] != 0).nonzero()[0]\n",
    "    \n",
    "    if len(idx) < 2:\n",
    "        predictions[i] = 0.5\n",
    "        continue\n",
    "    \n",
    "    relevantUsers = user_song[idx, :]\n",
    "    y_train = user_song[idx, recommended].todense()\n",
    "    #print relevantUsers.shape\n",
    "    \n",
    "    \n",
    "    knn = KNeighborsClassifier(algorithm=\"brute\", metric=\"cosine\", n_neighbors=min(20, len(idx)), weights=\"distance\").fit(relevantUsers, y_train)\n",
    "    pred_prob = knn.predict_proba(user_song[user,:])[0]\n",
    "    pred = knn.predict(user_song[user,:])[0]\n",
    "    \n",
    "    if len(pred_prob) == 2:\n",
    "        predictions[i] = pred_prob[1]\n",
    "    else:\n",
    "        if pred == 1:\n",
    "            predictions[i] = 1.\n",
    "        else:\n",
    "            predictions[i] = 0."
   ]
  },
  {
   "cell_type": "code",
   "execution_count": 144,
   "metadata": {
    "ExecuteTime": {
     "end_time": "2017-04-20T13:23:35.031000",
     "start_time": "2017-04-20T13:23:34.986000"
    },
    "collapsed": true
   },
   "outputs": [],
   "source": [
    "#Generate submmision file\n",
    "\n",
    "f = open(\"submission.csv\", \"w\")\n",
    "\n",
    "f.write(\"sample_id,is_listened\\n\")\n",
    "\n",
    "for i in range(19918):\n",
    "    f.write(\" %d,%.2f\\n\"%(i, predictions[i]))\n",
    "    \n",
    "f.close()"
   ]
  },
  {
   "cell_type": "code",
   "execution_count": null,
   "metadata": {
    "collapsed": true
   },
   "outputs": [],
   "source": []
  }
 ],
 "metadata": {
  "kernelspec": {
   "display_name": "Python 2",
   "language": "python",
   "name": "python2"
  },
  "language_info": {
   "codemirror_mode": {
    "name": "ipython",
    "version": 2
   },
   "file_extension": ".py",
   "mimetype": "text/x-python",
   "name": "python",
   "nbconvert_exporter": "python",
   "pygments_lexer": "ipython2",
   "version": "2.7.11"
  },
  "notify_time": "30"
 },
 "nbformat": 4,
 "nbformat_minor": 0
}
